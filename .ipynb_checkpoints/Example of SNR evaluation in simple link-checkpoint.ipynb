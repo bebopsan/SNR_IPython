{
 "cells": [
  {
   "cell_type": "markdown",
   "metadata": {},
   "source": [
    "# SNR and Q factor anaysis of a simple optical communications link"
   ]
  },
  {
   "cell_type": "markdown",
   "metadata": {},
   "source": [
    " This notebook attempts to reproduce an exercise on noise contribution sources at an optical PHY. The exercise in question was proposed by Robert Dahlgren (Bob.Dahlgren@ieee.org) in a document about [noise in fiber optic communication links](http://www.svphotonics.com/pub/pub029.pdf). "
   ]
  },
  {
   "cell_type": "markdown",
   "metadata": {},
   "source": [
    "The optical PHY in question consists of the elements in the following diagram:"
   ]
  },
  {
   "cell_type": "markdown",
   "metadata": {},
   "source": [
    "<img src=\"img/optical_PHY.png\">"
   ]
  },
  {
   "cell_type": "markdown",
   "metadata": {},
   "source": [
    "The transmitted signal travels from left to right and passes through stages where its subject to amplification, conversion and noise addition. Multiplicative scale factors denoted by the greek letter $\\eta$ represent stages where the signal and noise are either amplified and or converted from E/O or O/E stages. Noise sources are assumed to be Gaussian and their standard deviation is denoted by the greek letter $\\sigma$.\n",
    "\n",
    "Optical PHY glossary:\n",
    "- LDD: Laser Diode Driver\n",
    "- $\\sigma_{TX}$: Standard deviation of electrical noise introduced by laser diode \n",
    "- $\\eta_{LD}$: Laser diode E/O conversion efficiency in W/A\n",
    "- $\\sigma_{LD}$: Standard deviation of optical noise introduced by laser diode \n",
    "- $\\eta_{FO}$: Attenuation introduced by optical channel \n",
    "- $\\sigma_{FO}$: Standard deviation of noise introduced by fiber optic channel \n",
    "- $\\eta_{PD}$:  Photodetector O/E conversion efficiency in A/W\n",
    "- $\\sigma_{PD}$: Standard deviation of noise introduced by photodetector\n",
    "- $\\eta_{RX}$:  Preamplifier (TIA) gain in V/A\n",
    "- $\\sigma_{RX}$: Standard deviation of noise introduced by receiver electronics\n",
    "- DDC: Digital decision circuit\n",
    "\n"
   ]
  },
  {
   "cell_type": "markdown",
   "metadata": {
    "collapsed": true
   },
   "source": [
    " The objective of the exercise is to derive the optical power required at the input of the PD to achieve a Bit-Error-Rate (BER) of $10^{-12}$ under a given set of operation conditions. The BER is known to be a  function of the Q-function which is dependent on the signal and noise powers. The following table gives a glimpse of the relation between those parameters:\n",
    " "
   ]
  },
  {
   "cell_type": "markdown",
   "metadata": {},
   "source": [
    "<img src=\"img/BER_vs_Q.png\">"
   ]
  },
  {
   "cell_type": "markdown",
   "metadata": {},
   "source": [
    "## Theory"
   ]
  },
  {
   "cell_type": "markdown",
   "metadata": {},
   "source": [
    "In the case of signals with two levels, the Q factor is defined as:\n",
    "$$Q = \\dfrac{I_1-I_0}{\\sigma_1+\\sigma_0}$$\n",
    "Where $\\sigma_1$ and $\\sigma_0$ are defined as the square root of the variance of all noise sources:\n",
    "$$\\sigma_i = \\sqrt{(\\sigma_{i,TX})^2+(\\sigma_{i,LD})^2+(\\sigma_{i,FO})^2+(\\sigma_{i,PD})^2+(\\sigma_{i,RX})^2}$$"
   ]
  },
  {
   "cell_type": "markdown",
   "metadata": {},
   "source": [
    "In a first principles approach towards a noise budget we use known phisical models of these noise sources to estimate the total contribution of noise in the channel. \n",
    "\n",
    "When assembling the sum, we will be required to use the different conversion coefficients ($\\eta$) in order to represent standard deviations in relation to the units of power RMS that are present at the photodetector input. This is ilustrated in the following diagram: "
   ]
  },
  {
   "cell_type": "markdown",
   "metadata": {},
   "source": [
    "<img src=\"img/sigma_in_optical_PHY.png\">"
   ]
  },
  {
   "cell_type": "markdown",
   "metadata": {},
   "source": [
    "## Implementation\n",
    "\n",
    "In the following cells I will present my implementation of the exercise using numpy and sympy."
   ]
  },
  {
   "cell_type": "markdown",
   "metadata": {},
   "source": [
    "### Imports and definitions"
   ]
  },
  {
   "cell_type": "code",
   "execution_count": 2,
   "metadata": {
    "scrolled": true
   },
   "outputs": [
    {
     "name": "stdout",
     "output_type": "stream",
     "text": [
      "Populating the interactive namespace from numpy and matplotlib\n"
     ]
    }
   ],
   "source": [
    "%pylab inline\n",
    "import numpy as np\n",
    "from scipy.special import erfc,erfcinv\n",
    "from scipy.constants import k, elementary_charge # Boltzman constant and elementary charge in IU.\n",
    "from math import log10\n",
    "#import matplotlib.pyplot as plt\n",
    "from sympy import symbols,Eq, solveset, pprint\n",
    "x, y, z = symbols('x y z')\n",
    "\n",
    "def mw_to_dbm(mW):\n",
    "    \"\"\"This function converts a power given in mW to a power given in dBm.\"\"\"\n",
    "    return 10.*log10(mW)\n",
    "\n",
    "def dbm_to_w(dBm):\n",
    "    \"\"\"This function converts a power given in dBm to a power given in mW.\"\"\"\n",
    "    return 10**((dBm)/10.)*1e-3\n",
    "\n",
    "B   = 10e9   # Bandwidth Hz\n",
    "T   = 300    # Temperature in Kelvin: 25 degrees C\n",
    "R   = 1e3    # TIA equivalent resistance\n",
    "RIN = -145   # Relative intensity noise (RIN) from laser (dB/Hz) \n",
    "Q_target = 7.05 # Target Q factor for BER 1e-12"
   ]
  },
  {
   "cell_type": "markdown",
   "metadata": {},
   "source": [
    "#### Driver noise contribution\n",
    "\n",
    "$$\\sigma_{TX}=\\eta_{LD} \\eta_{FO} i_{tx \\\\ rms}$$"
   ]
  },
  {
   "cell_type": "code",
   "execution_count": 3,
   "metadata": {
    "collapsed": true,
    "scrolled": true
   },
   "outputs": [],
   "source": [
    "eta_LD = 0.5    # Laser diode slope efficiency in W/A\n",
    "eta_fo = 1      # Fiber optic channel attenuation \n",
    "i_tx_rms = 1e-6 # Laser driver RMS noise current  (Amp)\n",
    "\n",
    "sigma_Tx = eta_LD*eta_fo*i_tx_rms   # Tx circuit Watt RMS"
   ]
  },
  {
   "cell_type": "markdown",
   "metadata": {},
   "source": [
    "#### Laser noise contribution\n",
    "\n",
    "$$\\sigma_{1,LD}=\\eta_{fo} \\sqrt{10^{0.1 RIN}B}I_1$$\n",
    "$$\\sigma_{0,LD}=\\eta_{fo} \\sqrt{10^{0.1 RIN}B}I_0$$\n"
   ]
  },
  {
   "cell_type": "code",
   "execution_count": 4,
   "metadata": {
    "collapsed": true,
    "scrolled": true
   },
   "outputs": [],
   "source": [
    "sigma_rin_factor  = eta_fo*np.sqrt(10**(0.1*RIN)*B)"
   ]
  },
  {
   "cell_type": "markdown",
   "metadata": {},
   "source": [
    "#### Fiber optic channel noise contribution\n",
    "\n",
    "$$\\sigma_{1,FO}=\\sigma_{1,FO}= 0$$"
   ]
  },
  {
   "cell_type": "markdown",
   "metadata": {},
   "source": [
    "#### Detector noise contribution\n",
    "\n",
    "$$\\sigma_{1,PD}=\\sqrt{\\sigma_{1,D}^2 +\\sigma_{1,Shot}^2}$$\n",
    "$$\\sigma_{1,D} = \\dfrac{1}{\\eta_{pd}}\\sqrt{2qi_D*B}$$\n",
    "$$\\sigma_{1,Shot} = \\dfrac{1}{\\eta_{pd}}\\sqrt{2q\\eta_{pd}BI_1}$$\n",
    "$$\\sigma_{0,PD}=\\sigma_{0,D}= \\dfrac{1}{\\eta_{pd}}\\sqrt{2qi_D*B}$$"
   ]
  },
  {
   "cell_type": "code",
   "execution_count": 5,
   "metadata": {
    "collapsed": true,
    "scrolled": true
   },
   "outputs": [],
   "source": [
    "eta_pd = 0.9 # PD thermal noise resistance  (Ohm)\n",
    "i_D = 10e-9  # Dark current spec (Amp)  Dahlgren example\n",
    "\n",
    "sigma_D  = (1/eta_pd)*np.sqrt(2*elementary_charge* i_D*B) # Dark current noise Watt RMS\n",
    "sigma_shot_factor = (1/eta_pd)*np.sqrt(2*elementary_charge*eta_pd *B) # Shot noise factor"
   ]
  },
  {
   "cell_type": "markdown",
   "metadata": {},
   "source": [
    "#### Receiver circuit noise contribution\n",
    "Noise from the receiver circuit consists of thermal noise only:\n",
    "$$\\sigma_{RX} = \\sigma_{T}= \\dfrac{1}{\\eta_{pd}}\\dfrac{1}{\\eta_{rx}}2\\sqrt{kTBR}$$"
   ]
  },
  {
   "cell_type": "code",
   "execution_count": 6,
   "metadata": {
    "collapsed": true,
    "scrolled": true
   },
   "outputs": [],
   "source": [
    "eta_rx = 1e3 # TIA conversion factor. Resistance? The idea is to convert vrms back to irms.\n",
    "\n",
    "sigma_john = (1/eta_pd)*(1/eta_rx)*2*np.sqrt(k*T*B*R)"
   ]
  },
  {
   "cell_type": "markdown",
   "metadata": {},
   "source": [
    "#### Noise for levels 1 and 0\n",
    "We assume that $I_0->0$ and thus the noise of the level zero is only dependent on dark current and thermal noise. \n",
    "On the other hand, the noise of level 1 is a cuadratic function that depends on the optical power due to the nature of RIN noise and Shot noise."
   ]
  },
  {
   "cell_type": "code",
   "execution_count": 7,
   "metadata": {
    "collapsed": true,
    "scrolled": true
   },
   "outputs": [],
   "source": [
    "sigma_1_eq = sigma_D**2 + sigma_Tx**2 + sigma_john**2 \\\n",
    "                +sigma_shot_factor**2*x+sigma_rin_factor**2*x**2\n",
    "sigma_0 = np.sqrt(sigma_john**2 + sigma_D**2)"
   ]
  },
  {
   "cell_type": "code",
   "execution_count": 8,
   "metadata": {
    "scrolled": true
   },
   "outputs": [
    {
     "data": {
      "text/plain": [
       "3.16227766016838e-5*x**2 + 3.56039249066667e-9*x + 4.54580081398044e-13"
      ]
     },
     "execution_count": 8,
     "metadata": {},
     "output_type": "execute_result"
    }
   ],
   "source": [
    "sigma_1_eq"
   ]
  },
  {
   "cell_type": "code",
   "execution_count": 9,
   "metadata": {
    "scrolled": true
   },
   "outputs": [
    {
     "data": {
      "text/plain": [
       "4.5230529667255108e-07"
      ]
     },
     "execution_count": 9,
     "metadata": {},
     "output_type": "execute_result"
    }
   ],
   "source": [
    "sigma_0"
   ]
  },
  {
   "cell_type": "code",
   "execution_count": 10,
   "metadata": {
    "scrolled": true
   },
   "outputs": [
    {
     "data": {
      "image/png": "[encoded data removed]",
      "text/plain": [
       "<matplotlib.figure.Figure at 0x9908b70>"
      ]
     },
     "metadata": {},
     "output_type": "display_data"
    }
   ],
   "source": [
    "OMA =  np.linspace(-35,0,101) # OMA = I_1-I_0\n",
    "\n",
    "sigma_1_sq = sigma_D**2 + sigma_Tx**2 + sigma_john**2 + \\\n",
    "             sigma_shot_factor**2*dbm_to_w(OMA) + sigma_rin_factor**2*dbm_to_w(OMA)**2\n",
    "sigma_1 = np.sqrt(sigma_1_sq)\n",
    "l = plt.semilogy(OMA,sigma_1 + sigma_0 ,'-')\n",
    "#plt.legend((l1, l2), ('l1','l2'))\n",
    "plt.xlabel('OMA (dBm)')\n",
    "plt.ylabel('$\\sigma_{1}+\\sigma_{0}$ (Watt RMS)')\n",
    "plt.title('')\n",
    "plt.grid(True, which =\"both\")\n",
    "plt.show()"
   ]
  },
  {
   "cell_type": "markdown",
   "metadata": {},
   "source": [
    "#### Operation point for BER $10^{-12}$\n",
    "\n",
    "Using the assumption that the zero level is close to zero, one can use the definition of the Q factor in optical regime to pose a quadratic equation that will allow us to find the corresponding power level:\n",
    "\n",
    "<img src=\"img/Q_factor.png\">\n",
    "\n",
    "Here I use Python's symbolic library (SymPy) to state and solve the equation for $I_1$. "
   ]
  },
  {
   "cell_type": "code",
   "execution_count": 11,
   "metadata": {
    "scrolled": true
   },
   "outputs": [
    {
     "name": "stdout",
     "output_type": "stream",
     "text": [
      "                                            2                        2        \n",
      "(0.0201197122881143⋅x - 4.52305296672551e-7)  = 3.16227766016838e-5⋅x  + 3.560\n",
      "\n",
      "                                       \n",
      "39249066667e-9⋅x + 4.54580081398044e-13\n",
      "{-9.83104479985292e-6, 6.81431051509721e-5}\n"
     ]
    }
   ],
   "source": [
    "noise_eq = Eq((x/Q_target**2-sigma_0)**2,sigma_1_eq)\n",
    "pprint(noise_eq)\n",
    "a = solveset(noise_eq,x)\n",
    "pprint(a)"
   ]
  },
  {
   "cell_type": "code",
   "execution_count": 12,
   "metadata": {
    "scrolled": true
   },
   "outputs": [
    {
     "name": "stdout",
     "output_type": "stream",
     "text": [
      "-11.66578080348318\n"
     ]
    }
   ],
   "source": [
    "# The correct solution is obviously the one that represents a positive optical power\n",
    "I_target = a.args[1] # Power for Q target in W\n",
    "I_target_dBm = mw_to_dbm(I_target*1e3) # Power for Q target in dBm \n",
    "pprint(I_target_dBm)"
   ]
  },
  {
   "cell_type": "markdown",
   "metadata": {},
   "source": [
    "## Plots\n",
    "\n",
    "####  Q Factor vs optical power with all sources of noise"
   ]
  },
  {
   "cell_type": "code",
   "execution_count": 13,
   "metadata": {
    "scrolled": true
   },
   "outputs": [
    {
     "data": {
      "image/png": "[encoded data removed]",
      "text/plain": [
       "<matplotlib.figure.Figure at 0xb097e80>"
      ]
     },
     "metadata": {},
     "output_type": "display_data"
    }
   ],
   "source": [
    "Q_vec = np.sqrt(dbm_to_w(OMA)/(sigma_1+sigma_0)) \n",
    "#Q_vec = dbm_to_w(OMA)/(sigma_1) \n",
    "SNR_dBm_vec = 10*np.log10(Q_vec**2)\n",
    "\n",
    "l = plt.plot(OMA,Q_vec,'-')\n",
    "#plt.legend((l1, l2), ('l1','l2'))\n",
    "plt.axvline(x=[I_target_dBm], color='k', linestyle='--')\n",
    "plt.xlabel('OMA (dBm)')\n",
    "plt.ylabel('$Q$ ')\n",
    "plt.title('')\n",
    "plt.grid(True, which =\"both\")\n",
    "plt.show()\n"
   ]
  },
  {
   "cell_type": "markdown",
   "metadata": {},
   "source": [
    "#### SNR (dB) vs optical power at the receiver with all sources of noise"
   ]
  },
  {
   "cell_type": "code",
   "execution_count": 14,
   "metadata": {
    "scrolled": true
   },
   "outputs": [
    {
     "data": {
      "image/png": "[encoded data removed]",
      "text/plain": [
       "<matplotlib.figure.Figure at 0xb20fa20>"
      ]
     },
     "metadata": {},
     "output_type": "display_data"
    }
   ],
   "source": [
    "l = plt.plot(OMA,SNR_dBm_vec,'-')\n",
    "#plt.legend((l1, l2), ('l1','l2'))\n",
    "plt.axvline(x=[I_target_dBm], color='k', linestyle='--')\n",
    "plt.xlabel('OMA (dBm)')\n",
    "plt.ylabel('$SNR$(dB) ')\n",
    "plt.title('')\n",
    "plt.grid(True, which =\"both\")\n",
    "plt.show()\n",
    "\n",
    "# l = plt.plot(dbm_to_w(OMA)*1e3,Q_vec**2,'-')\n",
    "# #plt.legend((l1, l2), ('l1','l2'))\n",
    "# #plt.axvline(x=[I_target_dBm], color='k', linestyle='--')\n",
    "# plt.xlabel('OMA (mW)')\n",
    "# plt.ylabel('$SNR$ ')\n",
    "# plt.title('')\n",
    "# plt.grid(True, which =\"both\")\n",
    "# plt.show()"
   ]
  },
  {
   "cell_type": "markdown",
   "metadata": {},
   "source": [
    "#### $BER_Q$\n",
    "Errors are detected after a decision has been made on wether the received signal belongs to symbol $I_1$ or $I_0$ and this decision is compared with the known transmitted signal. The decision of which symbol arrived is made by comparing with a reference treshold level $I^{th}$. Symbols $I_1$ and $I_0$ are sent with an equal rate, so the probability of detecting each is the same:\n",
    "$$P(I_1) = P(I_0) = 1/2$$\n",
    "\n",
    "An error in our example with binary signals is encountered when we decide $I_1$ when $I_0$ is transmitted or when we decide  $I_0$ when $I_1$ is transmitted.\n",
    "\n",
    "The BER is given by the sum of the probabilities of these two events, each multiplied by the probability that the corresponding transmitted symbol was sent:\n",
    "\n",
    "$$BER = P(I_1)P(I_0|I_1) + P(I_0)P(I_1|I_0)$$\n",
    "\n",
    "In this expresion the probability that symbol $I_1$ is detected when $I_0$ is transmitted is denoted by $P(I_1|I_0)$.\n",
    "\n",
    "If the symbols that arrive to the detector are affected by noise with a normal Gaussian distribution we can define the probability $P(I_1|I_0)$ in mathematical terms by using the statistics of the noise. \n",
    "The power level that we represented before as symbol $I_1$ is replaced by the mean ($\\mu_1$) of the Gaussian distribution with standard deviation $\\sigma_1$.\n",
    "\n",
    "$$ P(I_0|I_1) = Q\\left(\\dfrac{\\mu_1-I^{th}}{\\sigma_1}\\right) = \\dfrac{1}{2}erfc\\left( \\dfrac{\\mu_1-I^{th}}{\\sigma_1\\sqrt{2}}\\right)$$\n",
    "\n",
    "- $Q(x)$ is the Q-function from statistics. It is the same as $1-\\Phi_X(x)$ where $\\Phi_X(x)$ is the cummulative distribution function of the normal Gaussian Distribution.\n",
    "- $erfc(x)$ is the [complementary error function](http://mathworld.wolfram.com/Erfc.html).\n",
    "\n",
    "Similarly, \n",
    "$$ P(I_1|I_0) = Q\\left(\\dfrac{I^{th}-\\mu_0}{\\sigma_0}\\right) = \\dfrac{1}{2}erfc\\left( \\dfrac{I^{th}-\\mu_0}{\\sigma_0\\sqrt{2}}\\right)$$\n",
    "\n"
   ]
  },
  {
   "cell_type": "code",
   "execution_count": 15,
   "metadata": {
    "scrolled": true
   },
   "outputs": [
    {
     "data": {
      "image/png": "[encoded data removed]",
      "text/plain": [
       "<matplotlib.figure.Figure at 0xb202dd8>"
      ]
     },
     "metadata": {},
     "output_type": "display_data"
    }
   ],
   "source": [
    "def make_gauss(N, sig, mu):\n",
    "    return lambda x: N/(sig * (2*np.pi)**.5) * np.e ** (-(x-mu)**2/(2 * sig**2))\n",
    "\n",
    "pylab.rcParams['figure.figsize'] = (10, 5)\n",
    "\n",
    "ax = plt.figure().add_subplot(1,1,1)\n",
    "plt.grid(True, which =\"both\")\n",
    "x = np.arange(-5, 10, 0.01)\n",
    "zero = np.zeros(len(x))\n",
    "sig = np.sqrt(2)\n",
    "mu = 0 \n",
    "Ith = 2.5\n",
    "Q_fac = (Ith-mu)/sig\n",
    "gauss_mu0 = make_gauss(1, sig, mu)(x)\n",
    "ax.plot(x, gauss_mu0, 'r', linewidth=2)\n",
    "ax.fill_between( x[(x>Ith)], zero[(x>Ith)],gauss_mu0[(x>Ith)],where=gauss_mu0[(x>Ith)] >= zero[(x>Ith)], facecolor='red', interpolate=True)\n",
    "\n",
    "ax.annotate('Q($(I^{th}-\\mu)/\\sigma$)', xy=(3, 0.025), xytext=(4, 0.05),\n",
    "            arrowprops=dict(facecolor='red', shrink=0.05),\n",
    "            )\n",
    "\n",
    "mu = 5 \n",
    "\n",
    "gauss_mu1 = make_gauss(1, sig, mu)(x)\n",
    "ax.plot(x, gauss_mu1, 'b', linewidth=2)\n",
    "ax.fill_between( x[(x<Ith)], zero[(x<Ith)],gauss_mu1[(x<Ith)],where=gauss_mu1[(x<Ith)] >= zero[(x<Ith)], facecolor='blue', interpolate=True)\n",
    "\n",
    "ax.plot(x, np.sqrt(gauss_mu1**2+gauss_mu0**2), 'c', linewidth=1)\n",
    "plt.legend(['$p_{I_0}$', '$p_{I_1}$', 'PDF','$P(I_1|I_0)$', '$P(I_0|I_1)$'], loc='best')\n",
    "plt.show()"
   ]
  },
  {
   "cell_type": "markdown",
   "metadata": {},
   "source": [
    "And the optimum decision treshold can be computed from both signals statistical moments using:\n",
    "\n",
    "$$\\dfrac{(I^{th}-\\mu_0)^2}{2\\sigma_0^2} = \\dfrac{(\\mu_1-I^{th})^2}{2\\sigma_1^2}+\\ln{\\dfrac{\\sigma_1}{\\sigma_0}}$$\n",
    "\n",
    " $$I^{th}= \\dfrac{\\mu_0\\sigma_1^2-\\mu_1\\sigma_0^2 + \\sigma_1\\sigma_0\\sqrt{(\\mu_1-\\mu_0)^2+2(\\sigma_1^2+\\sigma_0^2)\\ln{\\sigma_1/\\sigma_0}}}{\\sigma_1^2-\\sigma_0^2}$$ \n",
    "\n",
    "If we consider the $\\ln$ to be negligible then:\n",
    "$$I^{th}= \\dfrac{\\sigma_0\\mu_1+\\sigma_1\\mu_0}{\\sigma_1+\\sigma_0}$$ \n",
    "So that:\n",
    "$$\\dfrac{\\mu_1-I^{th}}{\\sigma_1}=\\dfrac{I^{th}-\\mu_0}{\\sigma_0}= \\dfrac{\\mu_1-\\mu_0}{\\sigma_1+\\sigma_0}= Q_{fac}$$ \n",
    "And\n",
    "$$BER_Q = \\dfrac{1}{2}erfc\\left(\\dfrac{Q_{fac}}{\\sqrt{2}}\\right) $$"
   ]
  },
  {
   "cell_type": "code",
   "execution_count": null,
   "metadata": {
    "collapsed": true
   },
   "outputs": [],
   "source": []
  },
  {
   "cell_type": "code",
   "execution_count": 16,
   "metadata": {
    "scrolled": true
   },
   "outputs": [
    {
     "data": {
      "image/png": "[encoded data removed]",
      "text/plain": [
       "<matplotlib.figure.Figure at 0x5146710>"
      ]
     },
     "metadata": {},
     "output_type": "display_data"
    }
   ],
   "source": [
    "BER_Q = lambda Q: 1/2*erfc(Q/np.sqrt(2))\n",
    "Q_BER = lambda BER: np.sqrt(2)*erfcinv(2*BER)\n",
    "\n",
    "plt.figure()\n",
    "l = plt.semilogy(Q_vec[(Q_vec>6)&(Q_vec<8)],BER_Q(Q_vec[(Q_vec>6)&(Q_vec<8)]),'-')\n",
    "plt.axvline(x=[Q_target], color='k', linestyle='--')\n",
    "#plt.legend((l1, l2), ('l1','l2'))\n",
    "plt.xlabel('Q')\n",
    "plt.ylabel('$BER$ ')\n",
    "plt.title('')\n",
    "plt.grid(True, which =\"both\")\n",
    "#plt.xlim(6, 8)\n",
    "pylab.rcParams['figure.figsize'] = (8, 5)\n",
    "plt.show()\n"
   ]
  },
  {
   "cell_type": "markdown",
   "metadata": {},
   "source": [
    "## Other analysis"
   ]
  },
  {
   "cell_type": "markdown",
   "metadata": {},
   "source": [
    "Now that I have proved that the implementation returns the expected result, I can start playing with the values.\n",
    "\n",
    "Things that would be interesting to try later:\n",
    "- Input parameters that are closer to our application:\n",
    "    - Our dark current estimate\n",
    "    - Our RIN estimate\n",
    "    - Our Bandwidth: 56 GHz\n",
    "    - Our Tia conversion factor\n",
    "- Make surface plots that show how the Q factor evolves as a function of more than one parameter.\n",
    "- Try to implement an equivalent Q factor for PAM-4 signals.\n",
    "- Think how does coherent detection behaves in comparison.\n",
    "- How does SNR deviate from Q factor when the modulation changes?"
   ]
  },
  {
   "cell_type": "code",
   "execution_count": null,
   "metadata": {
    "collapsed": true,
    "scrolled": true
   },
   "outputs": [],
   "source": []
  },
  {
   "cell_type": "code",
   "execution_count": null,
   "metadata": {
    "collapsed": true,
    "scrolled": true
   },
   "outputs": [],
   "source": []
  }
 ],
 "metadata": {
  "kernelspec": {
   "display_name": "Python 3",
   "language": "python",
   "name": "python3"
  },
  "language_info": {
   "codemirror_mode": {
    "name": "ipython",
    "version": 3
   },
   "file_extension": ".py",
   "mimetype": "text/x-python",
   "name": "python",
   "nbconvert_exporter": "python",
   "pygments_lexer": "ipython3",
   "version": "3.6.1"
  }
 },
 "nbformat": 4,
 "nbformat_minor": 2
}
